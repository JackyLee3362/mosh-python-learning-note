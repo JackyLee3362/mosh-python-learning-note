{
 "cells": [
  {
   "cell_type": "code",
   "execution_count": 9,
   "id": "4ea65031",
   "metadata": {},
   "outputs": [],
   "source": [
    "# import django"
   ]
  },
  {
   "cell_type": "markdown",
   "id": "9b7d9743",
   "metadata": {},
   "source": [
    "## 代码部分在pycharm中实现"
   ]
  },
  {
   "cell_type": "markdown",
   "id": "47c77759",
   "metadata": {},
   "source": [
    "首先使用\n",
    "\n",
    "django-admin startproject pyapp .\n",
    "\n",
    "python manage.py runserver\n",
    "\n",
    "python manage.py startapp movies\n",
    "\n",
    "python manage.py makemigrations  # 创建组件\n",
    "\n",
    "python manage.py migrate  # django会自动在数据库创建表"
   ]
  },
  {
   "cell_type": "markdown",
   "id": "a3660789",
   "metadata": {},
   "source": [
    "## Change the Models `30:36`\n",
    "\n",
    "python manage.py sqlmigrate movies 0001 # 迁移特定app"
   ]
  },
  {
   "cell_type": "markdown",
   "id": "02f05faa",
   "metadata": {},
   "source": [
    "## The Admin\n",
    "\n",
    "创建超级管理员\n",
    "\n",
    "python manage.py createsuperuser"
   ]
  },
  {
   "cell_type": "markdown",
   "id": "543f2028",
   "metadata": {},
   "source": [
    "## Customizing the Admin `40:43`"
   ]
  },
  {
   "cell_type": "markdown",
   "id": "542eb082",
   "metadata": {},
   "source": [
    "## Database API `47:40`"
   ]
  },
  {
   "cell_type": "markdown",
   "id": "99286b86",
   "metadata": {},
   "source": [
    "## Templates `51:30`"
   ]
  },
  {
   "cell_type": "markdown",
   "id": "7ed68fc6",
   "metadata": {},
   "source": [
    "## Adding BootStrap `1:01:55`\n",
    "\n",
    "[视频地址](https://www.bilibili.com/video/BV1ng4y1i7Uk?p=12&t=3715.9)\n",
    "\n",
    "[BootStrap官网地址](https://getbootstrap.com/)\n"
   ]
  },
  {
   "cell_type": "markdown",
   "id": "b3054713",
   "metadata": {},
   "source": [
    "## 自定义布局 `1:06:15`"
   ]
  },
  {
   "cell_type": "markdown",
   "id": "d5b1502b",
   "metadata": {},
   "source": [
    "## 共享模板 `1:08:39`"
   ]
  },
  {
   "cell_type": "markdown",
   "id": "6bd15b9d",
   "metadata": {},
   "source": [
    "## Url Parameters `1:12:28`"
   ]
  },
  {
   "cell_type": "markdown",
   "id": "88ef830c",
   "metadata": {},
   "source": [
    "## 获取单个对象 `1:17:05`"
   ]
  },
  {
   "cell_type": "markdown",
   "id": "27901202",
   "metadata": {},
   "source": [
    "## 抛出404错误 `1:20:54`"
   ]
  },
  {
   "cell_type": "markdown",
   "id": "3bae88f6",
   "metadata": {},
   "source": [
    "## Reference Urls `1:24:46`"
   ]
  },
  {
   "cell_type": "markdown",
   "id": "aafa6d73",
   "metadata": {},
   "source": [
    "## Creating APIs `1:28:34`\n",
    "\n",
    "pip install -i https://pypi.tuna.tsinghua.edu.cn/simple django-tastypie\n",
    "python manage.py startapp api"
   ]
  },
  {
   "cell_type": "markdown",
   "id": "5343a29c",
   "metadata": {},
   "source": [
    "## 添加主页 `1:38:00`"
   ]
  },
  {
   "cell_type": "markdown",
   "id": "d5dfccc5",
   "metadata": {},
   "source": [
    "## 准备部署 `1:47:27`\n",
    "\n",
    "STATIC_ROOT = os.path.join(BASE_DIR, \"static\")  # 在setting.py中添加这个选项\n",
    "python manage.py collectstatic "
   ]
  },
  {
   "cell_type": "code",
   "execution_count": null,
   "id": "624b2045",
   "metadata": {},
   "outputs": [],
   "source": []
  }
 ],
 "metadata": {
  "kernelspec": {
   "display_name": "Python 3 (ipykernel)",
   "language": "python",
   "name": "python3"
  },
  "language_info": {
   "codemirror_mode": {
    "name": "ipython",
    "version": 3
   },
   "file_extension": ".py",
   "mimetype": "text/x-python",
   "name": "python",
   "nbconvert_exporter": "python",
   "pygments_lexer": "ipython3",
   "version": "3.9.7"
  }
 },
 "nbformat": 4,
 "nbformat_minor": 5
}
