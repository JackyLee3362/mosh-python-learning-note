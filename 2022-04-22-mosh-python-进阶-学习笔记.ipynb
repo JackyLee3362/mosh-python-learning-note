{
 "cells": [
  {
   "cell_type": "markdown",
   "id": "78ff10ab",
   "metadata": {},
   "source": [
    "# [Exception 异常](https://docs.python.org/3/tutorial/errors.html#exceptions)\n",
    "\n",
    "[异常继承树](https://docs.python.org/3/library/exceptions.html#exception-hierarchy)"
   ]
  },
  {
   "cell_type": "code",
   "execution_count": 9,
   "id": "c575a21d",
   "metadata": {},
   "outputs": [
    {
     "name": "stdout",
     "output_type": "stream",
     "text": [
      "Please enter a number: 0\n",
      "Oops!  That was no valid number.  Try again...\n",
      "<class 'ZeroDivisionError'>\n",
      "finally block\n"
     ]
    }
   ],
   "source": [
    "try:\n",
    "    x = int(input(\"Please enter a number: \"))\n",
    "    y = 10 / x\n",
    "except (ValueError , ZeroDivisionError) as e:\n",
    "    print(\"Oops!  That was no valid number.  Try again...\")\n",
    "    print(type(e))\n",
    "finally:\n",
    "    print(\"finally block\")"
   ]
  },
  {
   "cell_type": "markdown",
   "id": "a27ffae9",
   "metadata": {},
   "source": [
    "如果一个类含有`__enter__` 和 `__exit__`方法，就可以使用with语句"
   ]
  },
  {
   "cell_type": "code",
   "execution_count": 4,
   "id": "e0d4f7a1",
   "metadata": {},
   "outputs": [
    {
     "name": "stdout",
     "output_type": "stream",
     "text": [
      "hello\n"
     ]
    }
   ],
   "source": [
    "# with open(\"app.py\") as f, open(\"app2.py\") as f2:\n",
    "#     # TODO"
   ]
  },
  {
   "cell_type": "markdown",
   "id": "c228b447",
   "metadata": {},
   "source": [
    "介绍一个比较好用python库[timeit](https://docs.python.org/3/library/timeit.html#module-timeit)"
   ]
  },
  {
   "cell_type": "code",
   "execution_count": 27,
   "id": "2e7a22b2",
   "metadata": {},
   "outputs": [
    {
     "name": "stdout",
     "output_type": "stream",
     "text": [
      "first code: 0.006133200000022043\n",
      "second code: 0.0021141000001989596\n"
     ]
    }
   ],
   "source": [
    "from timeit import timeit\n",
    "\n",
    "code1 = \"\"\"\n",
    "def factor(x):\n",
    "    if(x<=0):\n",
    "        raise ValueError(\"can less than 0\")\n",
    "    return 10/x\n",
    "try:\n",
    "    factor(-1)\n",
    "except ValueError as e:\n",
    "    pass\n",
    "\"\"\"\n",
    "code2 = \"\"\"\n",
    "def factor(x):\n",
    "    if(x<=0):\n",
    "        return None\n",
    "    return 10/x\n",
    "xfactor =  factor(-1)\n",
    "if xfactor == None:\n",
    "    pass\n",
    "\"\"\"\n",
    "\n",
    "print(\"first code:\", timeit(code1, number=10000))\n",
    "print(\"second code:\", timeit(code2, number=10000))  # 快多了"
   ]
  },
  {
   "cell_type": "markdown",
   "id": "a094d16c",
   "metadata": {},
   "source": [
    "# [Class 类](https://docs.python.org/3/tutorial/classes.html)"
   ]
  },
  {
   "cell_type": "code",
   "execution_count": 28,
   "id": "0f7f79ab",
   "metadata": {},
   "outputs": [
    {
     "name": "stdout",
     "output_type": "stream",
     "text": [
      "<class '__main__.Point'>\n",
      "False\n"
     ]
    }
   ],
   "source": [
    "class Point:\n",
    "    def draw(self):\n",
    "        print(\"draw\")\n",
    "\n",
    "point = Point()\n",
    "print(type(point))\n",
    "print(isinstance(point, int))"
   ]
  },
  {
   "cell_type": "code",
   "execution_count": 36,
   "id": "41aa7076",
   "metadata": {},
   "outputs": [
    {
     "name": "stdout",
     "output_type": "stream",
     "text": [
      "10\n",
      "yellow\n"
     ]
    }
   ],
   "source": [
    "class Point:\n",
    "    default_color = \"red\"\n",
    "    def __init__(self, x, y):\n",
    "        self.x = x\n",
    "        self.y = y\n",
    "    def draw(self):\n",
    "        print(\"draw\")\n",
    "point = Point(1,2)\n",
    "point.z = 10  # 可以自定义属性\n",
    "point.default_color = \"yellow\" # 实例中改变属性值，不影响类中的属性值\n",
    "print(Point.default_color)\n"
   ]
  },
  {
   "cell_type": "code",
   "execution_count": 37,
   "id": "744e00e6",
   "metadata": {},
   "outputs": [],
   "source": [
    "class Point:\n",
    "    default_color = \"red\"\n",
    "    def __init__(self, x, y):\n",
    "        self.x = x\n",
    "        self.y = y\n",
    "        \n",
    "    @classmethod  # 装饰器\n",
    "    def zero(cls):  # 工厂方法\n",
    "        return cls(0, 0)\n",
    "        \n",
    "    def draw(self):\n",
    "        print(\"draw\")\n",
    "        \n",
    "point = Point.zero()"
   ]
  },
  {
   "cell_type": "markdown",
   "id": "caa25e2f",
   "metadata": {},
   "source": [
    "## [Magic Method](rszalski.github.io/magicmethods/)\n",
    "\n",
    "比如查看point\n",
    "[输出字符串](https://rszalski.github.io/magicmethods/#representations)\n",
    "[比较](https://rszalski.github.io/magicmethods/#comparisons)"
   ]
  },
  {
   "cell_type": "code",
   "execution_count": 44,
   "id": "bb0869a8",
   "metadata": {},
   "outputs": [
    {
     "name": "stdout",
     "output_type": "stream",
     "text": [
      "(1, 2)\n",
      "True\n",
      "False\n"
     ]
    }
   ],
   "source": [
    "class Point:\n",
    "    \n",
    "    def __init__(self, x, y):\n",
    "        self.x = x\n",
    "        self.y = y\n",
    "        \n",
    "    def __str__(self):\n",
    "        return f\"({self.x}, {self.y})\"\n",
    "    \n",
    "    def __eq__(self, other):\n",
    "        return self.x == other.x and self.y == other.y\n",
    "    def __gt__(self, other):  # 同时也隐式地定义了less than（__lt__）\n",
    "        return self.x > other.x and self.y > other.y\n",
    "\n",
    "point = Point(1,2)\n",
    "point2 = Point(0,0)\n",
    "other = Point(1,2)\n",
    "print(point)\n",
    "print(point == other)\n",
    "print(point < point2)"
   ]
  },
  {
   "cell_type": "markdown",
   "id": "8e0922f2",
   "metadata": {},
   "source": [
    "## [Container 容器（自定义容器类型）](https://rszalski.github.io/magicmethods/#sequence)"
   ]
  },
  {
   "cell_type": "code",
   "execution_count": 53,
   "id": "16df8214",
   "metadata": {},
   "outputs": [
    {
     "name": "stdout",
     "output_type": "stream",
     "text": [
      "{'python': 3}\n",
      "3\n",
      "len: 1\n"
     ]
    }
   ],
   "source": [
    "class TagCloud:\n",
    "    def __init__(self):\n",
    "        self.tags = {}\n",
    "        \n",
    "    def add(self, tag):  \n",
    "        self.tags[tag.lower()] = self.tags.get(tag.lower(), 0) + 1\n",
    "        \n",
    "    def __getitem__(self, tag):  # 实现获取值 cloud[\"python\"]\n",
    "        return self.tags.get(tag.lower(), 0)\n",
    "        \n",
    "    def __setitem__(self, tag, count):  # 实现赋值 cloud[\"python\"] = 10\n",
    "        self.tags[tag.lower()] = count\n",
    "        \n",
    "    def __len__(self):  # 实现len(cloud)\n",
    "        return len(self.tags)\n",
    "    \n",
    "    def __iter__(self):  # 实现迭代\n",
    "        return iter(self.tags)\n",
    "        \n",
    "        \n",
    "cloud = TagCloud()\n",
    "cloud.add(\"Python\")\n",
    "cloud.add(\"python\")\n",
    "cloud.add(\"python\")\n",
    "print(cloud.tags)\n",
    "print(cloud[\"python\"])\n",
    "print(\"len:\",len(cloud))"
   ]
  },
  {
   "cell_type": "markdown",
   "id": "e2af603a",
   "metadata": {},
   "source": [
    "## [Private Members 私有成员)]()"
   ]
  },
  {
   "cell_type": "code",
   "execution_count": 56,
   "id": "e8eeff1a",
   "metadata": {},
   "outputs": [
    {
     "name": "stdout",
     "output_type": "stream",
     "text": [
      "{'_TagCloud__tags': {}}\n",
      "{}\n"
     ]
    }
   ],
   "source": [
    "class TagCloud:\n",
    "    def __init__(self):\n",
    "        self.__tags = {}  # 私有成员\n",
    "cloud = TagCloud()\n",
    "# cloud.__tags[\"123\"] = 123 # 会报错\n",
    "print(cloud.__dict__)  # 显示所有属性\n",
    "print(cloud._TagCloud__tags)  # 依然能够被访问到，说明是不安全的"
   ]
  },
  {
   "cell_type": "markdown",
   "id": "5b70b1ca",
   "metadata": {},
   "source": [
    "## [Property](https://docs.python.org/3/library/functions.html#property)"
   ]
  },
  {
   "cell_type": "code",
   "execution_count": 2,
   "id": "201c9928",
   "metadata": {},
   "outputs": [
    {
     "name": "stdout",
     "output_type": "stream",
     "text": [
      "<class 'int'>\n",
      "50\n",
      "{'_Product__price': 50}\n"
     ]
    }
   ],
   "source": [
    "class Product:\n",
    "    def __init__(self, price):\n",
    "        self.set_price(price)\n",
    "        # 如果我们想限制price的范围，该怎么做\n",
    "    def get_price(self):\n",
    "        return self.__price\n",
    "    def set_price(self, value):\n",
    "        if value < 0:\n",
    "            raise ValueError(\"price cannot be negativ.\")\n",
    "        self.__price = value\n",
    "    price = property(get_price, set_price)\n",
    "\n",
    "product = Product(50)\n",
    "print(type(product.price))\n",
    "print(product.price)\n",
    "print(product.__dict__)"
   ]
  },
  {
   "cell_type": "code",
   "execution_count": null,
   "id": "84e3ad25",
   "metadata": {},
   "outputs": [],
   "source": [
    "# 对代码进行美化  ??\n",
    "class Products:\n",
    "    def __init__(self, price):\n",
    "        self.price = price\n",
    "        # 如果我们想限制price的范围，该怎么做\n",
    "    @property\n",
    "    def price(self):\n",
    "        return self.price\n",
    "    \n",
    "#     @price.setter  # 如果把这段注释掉，price就只能只读了(但是甚至不能初始化)\n",
    "#     def price(self, value):\n",
    "#         if value < 0:\n",
    "#             raise ValueError(\"price cannot be negativ.\")\n",
    "#         self.__price = value\n",
    "    \n",
    "c = Products(10)\n",
    "\n"
   ]
  },
  {
   "cell_type": "markdown",
   "id": "7bfc40c2",
   "metadata": {},
   "source": [
    "## [Inheritance 继承](https://docs.python.org/3/tutorial/classes.html#inheritance)"
   ]
  },
  {
   "cell_type": "code",
   "execution_count": null,
   "id": "4e92a5c6",
   "metadata": {},
   "outputs": [],
   "source": [
    "class Animal(object):  # object 万物之源\n",
    "    def __init__(self):\n",
    "        self.age = 1\n",
    "        self.weight = 2\n",
    "    def eat(self):\n",
    "        print(\"eat\")\n",
    "class Mammal(Animal):\n",
    "    def __init__(self, age):  # print(dog.weight)会出错，因为Mammel类中将Animal类中的__init__重写了\n",
    "        super().__init__()  # 加上这个就可以访问了\n",
    "        self.age = age\n",
    "    def walk(self):\n",
    "        print(\"walk\")\n",
    "    def eat(self):  # 覆盖方法\n",
    "        print(\"mammal eat\")  \n",
    "class Fish(Animal):\n",
    "    def swim(self):\n",
    "        print(\"swim\")\n",
    "        \n",
    "dog = Mammal(2) \n",
    "dog.eat()  # 继承Animal类的方法\n",
    "print(dog.age)  # 覆盖Animal类的属性，也叫重写\n",
    "dog.__init__(3)  # 初始化\n",
    "print(dog.age)\n",
    "\n",
    "\n",
    "print(isinstance(dog, Animal))\n",
    "print(issubclass(Mammal, Animal))  # 判断一个类是不是后者的子类\n",
    "\n",
    "print(dog.weight)\n"
   ]
  },
  {
   "cell_type": "markdown",
   "id": "e529c6d0",
   "metadata": {},
   "source": [
    "## 抽象类"
   ]
  },
  {
   "cell_type": "code",
   "execution_count": 11,
   "id": "6c87c10f",
   "metadata": {},
   "outputs": [
    {
     "name": "stdout",
     "output_type": "stream",
     "text": [
      "init animal\n",
      "dog is walking...\n"
     ]
    }
   ],
   "source": [
    "from abc import ABC, abstractmethod\n",
    "\n",
    "class Animal(ABC):\n",
    "    def eat(self):\n",
    "        pass\n",
    "    @abstractmethod\n",
    "    def walk(self):\n",
    "        pass\n",
    "class Mammal(Animal):\n",
    "    def __init__(self):\n",
    "        print(\"init animal\")\n",
    "    def walk(self, name):\n",
    "        print(name, \"is walking...\")\n",
    "\n",
    "mammal = Mammal()\n",
    "mammal.walk(\"dog\")"
   ]
  },
  {
   "cell_type": "markdown",
   "id": "456e10a0",
   "metadata": {},
   "source": [
    "## Polymorphism 多态"
   ]
  },
  {
   "cell_type": "markdown",
   "id": "68021aad",
   "metadata": {},
   "source": [
    "## 一些内置函数\n",
    "\n",
    "[id()](https://docs.python.org/3/library/functions.html#id)"
   ]
  },
  {
   "cell_type": "code",
   "execution_count": 14,
   "id": "4c7786ac",
   "metadata": {},
   "outputs": [
    {
     "name": "stdout",
     "output_type": "stream",
     "text": [
      "2301634352464\n"
     ]
    }
   ],
   "source": [
    "class Point:\n",
    "    def __init__(self, x, y):\n",
    "        self.x = x\n",
    "        self.y = y\n",
    "p1 = Point(1,2)\n",
    "print(id(p1))"
   ]
  },
  {
   "cell_type": "code",
   "execution_count": 17,
   "id": "b0d85e9d",
   "metadata": {},
   "outputs": [
    {
     "name": "stdout",
     "output_type": "stream",
     "text": [
      "True\n"
     ]
    }
   ],
   "source": [
    "from collections import namedtuple\n",
    "\n",
    "Point = namedtuple(\"Point\", [\"x\", \"y\"])\n",
    "p1 = Point(x=1, y=2)\n",
    "p2 = Point(x=1, y=2)\n",
    "print(p1==p2)  # 省去定义class、初始化和写__eq__这样的函数"
   ]
  },
  {
   "cell_type": "code",
   "execution_count": null,
   "id": "a6ccdb97",
   "metadata": {},
   "outputs": [],
   "source": []
  }
 ],
 "metadata": {
  "kernelspec": {
   "display_name": "Python 3 (ipykernel)",
   "language": "python",
   "name": "python3"
  },
  "language_info": {
   "codemirror_mode": {
    "name": "ipython",
    "version": 3
   },
   "file_extension": ".py",
   "mimetype": "text/x-python",
   "name": "python",
   "nbconvert_exporter": "python",
   "pygments_lexer": "ipython3",
   "version": "3.9.7"
  }
 },
 "nbformat": 4,
 "nbformat_minor": 5
}
