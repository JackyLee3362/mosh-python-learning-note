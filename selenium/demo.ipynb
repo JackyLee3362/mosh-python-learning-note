{
 "cells": [
  {
   "cell_type": "markdown",
   "id": "8a8ae86b",
   "metadata": {},
   "source": [
    "# selenium"
   ]
  },
  {
   "cell_type": "code",
   "execution_count": 6,
   "id": "bf66ef62",
   "metadata": {},
   "outputs": [],
   "source": [
    "from selenium import webdriver\n",
    "\n",
    "url = \"https://www.taobao.com/\"\n",
    "browser = webdriver.Edge()\n",
    "browser.get(url)\n",
    "signin_link = browser.find_element_by_link_text(\"登录\")\n",
    "signin_link.click()"
   ]
  },
  {
   "cell_type": "code",
   "execution_count": null,
   "id": "36cc48ad",
   "metadata": {},
   "outputs": [],
   "source": []
  }
 ],
 "metadata": {
  "kernelspec": {
   "display_name": "Python 3 (ipykernel)",
   "language": "python",
   "name": "python3"
  },
  "language_info": {
   "codemirror_mode": {
    "name": "ipython",
    "version": 3
   },
   "file_extension": ".py",
   "mimetype": "text/x-python",
   "name": "python",
   "nbconvert_exporter": "python",
   "pygments_lexer": "ipython3",
   "version": "3.9.12"
  }
 },
 "nbformat": 4,
 "nbformat_minor": 5
}
