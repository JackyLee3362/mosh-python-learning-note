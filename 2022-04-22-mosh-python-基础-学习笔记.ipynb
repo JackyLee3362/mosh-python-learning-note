{
 "cells": [
  {
   "cell_type": "markdown",
   "metadata": {},
   "source": [
    "# 字符串 str\n",
    "格式化字符串使用f\"{}\"格式，[官网](https://docs.python.org/3/library/string.html#format-string-syntax)"
   ]
  },
  {
   "cell_type": "code",
   "execution_count": 1,
   "metadata": {},
   "outputs": [
    {
     "name": "stdout",
     "output_type": "stream",
     "text": [
      "jacky lee\n"
     ]
    }
   ],
   "source": [
    "first = \"jacky\"\n",
    "last = \"lee\"\n",
    "print(f\"{first} {last}\")"
   ]
  },
  {
   "cell_type": "markdown",
   "metadata": {},
   "source": [
    "for-else循环，第一次看到，想到官网找，偶然看到了BNF（巴科斯范式），学习一下"
   ]
  },
  {
   "cell_type": "code",
   "execution_count": 2,
   "metadata": {},
   "outputs": [
    {
     "name": "stdout",
     "output_type": "stream",
     "text": [
      "Attemp\n",
      "successful\n"
     ]
    }
   ],
   "source": [
    "successful = True\n",
    "for number in range(3):\n",
    "    print(\"Attemp\")\n",
    "    if successful:\n",
    "        print(\"successful\")\n",
    "        break;\n",
    "else:\n",
    "    print(\"Attempted 3 times\")"
   ]
  },
  {
   "cell_type": "markdown",
   "metadata": {},
   "source": [
    "# 函数\n",
    "函数，关于`*args` `**kwargs`，`*args`返回元组，`**kwargs`返回字典"
   ]
  },
  {
   "cell_type": "code",
   "execution_count": 3,
   "metadata": {},
   "outputs": [
    {
     "name": "stdout",
     "output_type": "stream",
     "text": [
      "(1, 2, 3)\n",
      "{'name': 'jieli', 'age': 18}\n"
     ]
    }
   ],
   "source": [
    "def multiply(*number):\n",
    "    print(number)\n",
    "def get_json(**kwargs):\n",
    "    print(kwargs)\n",
    "multiply(1,2,3)\n",
    "get_json(name=\"jieli\", age=18)"
   ]
  },
  {
   "cell_type": "markdown",
   "metadata": {},
   "source": [
    "vscode中一些实用的快捷键，home和end，以及alt+上下键可以移动代码"
   ]
  },
  {
   "cell_type": "markdown",
   "metadata": {},
   "source": [
    "# 数据结构-列表list"
   ]
  },
  {
   "cell_type": "code",
   "execution_count": 4,
   "metadata": {},
   "outputs": [
    {
     "name": "stdout",
     "output_type": "stream",
     "text": [
      "[[1, 2], [3, 4, 3, 4]]\n",
      "[[1, 2], [3, 4, 3, 4], 0, 0, 0, 0, 0, 0, 0, 0, 0, 0]\n",
      "[0, 1, 2, 3, 4, 5, 6, 7, 8, 9]\n",
      "['H', 'e', 'l', 'l', 'o', ',', ' ', 'w', 'o', 'r', 'l', 'd']\n"
     ]
    }
   ],
   "source": [
    "matrix = [[1,2], [3,4]*2]\n",
    "zeros = [0] * 10\n",
    "print(matrix)\n",
    "print(matrix + zeros)\n",
    "number = list(range(10))\n",
    "print(number)\n",
    "print(list(\"Hello, world\"))"
   ]
  },
  {
   "cell_type": "markdown",
   "metadata": {},
   "source": [
    "一些list的操作，包括赋值操作"
   ]
  },
  {
   "cell_type": "code",
   "execution_count": 5,
   "metadata": {},
   "outputs": [
    {
     "name": "stdout",
     "output_type": "stream",
     "text": [
      "a\n"
     ]
    }
   ],
   "source": [
    "letter = list(\"apple\")\n",
    "print(letter[0])\n"
   ]
  },
  {
   "cell_type": "code",
   "execution_count": 6,
   "metadata": {
    "scrolled": true
   },
   "outputs": [
    {
     "name": "stdout",
     "output_type": "stream",
     "text": [
      "1\n",
      "[3, 4, 4]\n"
     ]
    }
   ],
   "source": [
    "numbers = [1, 2, 3, 4, 4, 5]\n",
    "first, second, *other, last= numbers\n",
    "print(first)\n",
    "print(other)"
   ]
  },
  {
   "cell_type": "code",
   "execution_count": 7,
   "metadata": {},
   "outputs": [
    {
     "name": "stdout",
     "output_type": "stream",
     "text": [
      "a\n",
      "b\n",
      "c\n",
      "(0, 'a')\n",
      "0 a\n",
      "(1, 'b')\n",
      "1 b\n",
      "(2, 'c')\n",
      "2 c\n"
     ]
    }
   ],
   "source": [
    "letters = list(\"abc\")\n",
    "\n",
    "for letter in letters:\n",
    "    print(letter)\n",
    "    \n",
    "for letter in enumerate(letters):  # 相当于加了一个变量i，使我们可以直接访问\n",
    "    print(letter)\n",
    "    print(letter[0], letter[1])"
   ]
  },
  {
   "cell_type": "code",
   "execution_count": 8,
   "metadata": {},
   "outputs": [
    {
     "name": "stdout",
     "output_type": "stream",
     "text": [
      "0 a\n",
      "1 b\n",
      "2 c\n"
     ]
    }
   ],
   "source": [
    "letters = list(\"abc\")\n",
    "    \n",
    "for index, letter in enumerate(letters):  # 相当于加了一个变量i，使我们可以直接访问\n",
    "    print(index, letter)"
   ]
  },
  {
   "cell_type": "markdown",
   "metadata": {},
   "source": [
    "更多的信息可以查看[官网](https://docs.python.org/3/library/stdtypes.html#sequence-types-list-tuple-range)"
   ]
  },
  {
   "cell_type": "code",
   "execution_count": 11,
   "metadata": {},
   "outputs": [],
   "source": [
    "letters = list(\"abc\")\n",
    "\n",
    "letters.append(\"d\")  # 尾部插入 ['a', 'b', 'c', 'd']\n",
    "letters.insert(0,\"-\")  # 特定位置插入 ['a', 'b', 'c', 'd']\n",
    "letters.pop() # 默认是最后一位，也可以指定位置\n",
    "letters.remove(\"b\")  # 默认移除第一次出现的b\n",
    "if \"d\" in letters:  # 如果不加条件判断，找不到时会抛出异常\n",
    "    letters.index(\"d\") "
   ]
  },
  {
   "cell_type": "markdown",
   "metadata": {},
   "source": [
    "关于上例的enumerate，详细查看：https://docs.python.org/3/library/functions.html#enumerate\n",
    "\n",
    "关于list其他的一些方法：https://docs.python.org/3/library/stdtypes.html#lists\n",
    "\n",
    "关于排序 https://docs.python.org/3/howto/sorting.html#sortinghowto\n",
    "\n",
    "sort排序中，可能要对key进行一些定义，可以用函数，也可以用lambda表达式，具体看下面的例子\n",
    "\n",
    "什么是lambda表达式，可以参考：https://docs.python.org/3/reference/expressions.html#lambda\n"
   ]
  },
  {
   "cell_type": "code",
   "execution_count": null,
   "metadata": {},
   "outputs": [],
   "source": [
    "items = [\n",
    "    (\"Jack\", 10),\n",
    "    (\"Tom\", 24),\n",
    "    (\"Micky\", 18)\n",
    "]\n",
    "\n",
    "items.sort(key=lambda item:item[1], reverse=True)\n",
    "print(items)"
   ]
  },
  {
   "cell_type": "markdown",
   "metadata": {},
   "source": [
    "# 映射函数\n",
    "map()，内置函数。定义见：https://docs.python.org/3/library/functions.html#map\n"
   ]
  },
  {
   "cell_type": "code",
   "execution_count": null,
   "metadata": {},
   "outputs": [],
   "source": [
    "items = [\n",
    "    (\"Jack\", 10),\n",
    "    (\"Tom\", 24),\n",
    "    (\"Micky\", 18)\n",
    "]\n",
    "\n",
    "ages = list(map(lambda item: item[1], items))\n",
    "print(ages)"
   ]
  },
  {
   "cell_type": "markdown",
   "metadata": {},
   "source": [
    "# 过滤函数\n",
    "https://docs.python.org/3/library/functions.html#filter"
   ]
  },
  {
   "cell_type": "code",
   "execution_count": null,
   "metadata": {},
   "outputs": [],
   "source": [
    "items = [\n",
    "    (\"Jack\", 10),\n",
    "    (\"Tom\", 24),\n",
    "    (\"Micky\", 18)\n",
    "]\n",
    "\n",
    "adults = filter(lambda item : item[1]>=18, items)\n",
    "print(list(adults))"
   ]
  },
  {
   "cell_type": "markdown",
   "metadata": {},
   "source": [
    "# list比较\n",
    "对上面两个例子的简化"
   ]
  },
  {
   "cell_type": "code",
   "execution_count": null,
   "metadata": {},
   "outputs": [],
   "source": [
    "items = [\n",
    "    (\"Jack\", 10),\n",
    "    (\"Tom\", 24),\n",
    "    (\"Micky\", 18)\n",
    "]\n",
    "\n",
    "ages = [item[1] for item in items]\n",
    "print(ages)\n",
    "ages = [item[1] for item in items if item[1]>=18]\n",
    "print(ages)"
   ]
  },
  {
   "cell_type": "markdown",
   "metadata": {},
   "source": [
    "# zip函数\n",
    "https://docs.python.org/3/library/functions.html#zip"
   ]
  },
  {
   "cell_type": "code",
   "execution_count": null,
   "metadata": {},
   "outputs": [],
   "source": [
    "for item in zip([1, 2, 3], ['sugar', 'spice', 'everything nice']):\n",
    "    print(item)"
   ]
  },
  {
   "cell_type": "markdown",
   "metadata": {},
   "source": [
    "# Stack 栈 和 Queue 队列 Tuple 元组"
   ]
  },
  {
   "cell_type": "markdown",
   "metadata": {},
   "source": [
    "# 交换变量值"
   ]
  },
  {
   "cell_type": "code",
   "execution_count": null,
   "metadata": {},
   "outputs": [],
   "source": [
    "x = 10\n",
    "y = 11\n",
    "x, y = y, x\n",
    "a, b, c = 1, 2, 3"
   ]
  },
  {
   "cell_type": "markdown",
   "metadata": {},
   "source": [
    "# [Array](https://docs.python.org/3/library/array.html#module-array)\n",
    "\n",
    "数组在定义好之后（比如int型），就不能加入string类型了"
   ]
  },
  {
   "cell_type": "code",
   "execution_count": null,
   "metadata": {},
   "outputs": [],
   "source": [
    "from array import array\n",
    "numbers = array(\"i\", [1, 2, 3]) # i 表示array是带符号整型\n",
    "# numbers[0] = 1.0 # TypeError\n",
    "numbers[0] = 1"
   ]
  },
  {
   "cell_type": "markdown",
   "metadata": {},
   "source": [
    "# [Set](https://docs.python.org/3/tutorial/datastructures.html?highlight=dictionary#sets)\n",
    "\n",
    "花括号用来表示集合，集合也可以使用逻辑表达式\n",
    "\n",
    "集合不支持索引，即first[1]是错误的，可以使用if 1 in first:"
   ]
  },
  {
   "cell_type": "code",
   "execution_count": 15,
   "metadata": {},
   "outputs": [
    {
     "name": "stdout",
     "output_type": "stream",
     "text": [
      "{1, 2, 3, 4}\n",
      "{1, 2, 3, 4, 5}\n",
      "{1}\n",
      "{2, 3, 4}\n",
      "{2, 3, 4, 5}\n"
     ]
    }
   ],
   "source": [
    "numbers = [1, 1, 2, 3, 2, 4]\n",
    "first = set(numbers)\n",
    "print(first)\n",
    "\n",
    "\n",
    "second = {1, 5}\n",
    "print(first | second) # 并集\n",
    "print(first & second) # 交集\n",
    "print(first - second) # 差集\n",
    "print(first ^ second) # 补集\n"
   ]
  },
  {
   "cell_type": "markdown",
   "metadata": {},
   "source": [
    "# [字典](https://docs.python.org/3/tutorial/datastructures.html?highlight=dictionary#dictionaries)"
   ]
  },
  {
   "cell_type": "code",
   "execution_count": 20,
   "metadata": {},
   "outputs": [
    {
     "name": "stdout",
     "output_type": "stream",
     "text": [
      "{'x': 1, 'y': 2}\n",
      "dict_keys(['x', 'y'])\n",
      "dict_values([1, 2])\n",
      "dict_items([('x', 1), ('y', 2)])\n"
     ]
    }
   ],
   "source": [
    "dir = dict(x=1,y=2)\n",
    "print(dir)\n",
    "print(dir.keys())\n",
    "print(dir.values())\n",
    "print(dir.items())"
   ]
  },
  {
   "cell_type": "code",
   "execution_count": 23,
   "metadata": {},
   "outputs": [
    {
     "name": "stdout",
     "output_type": "stream",
     "text": [
      "{0: 0, 1: 1, 2: 4, 3: 9, 4: 16}\n",
      "[0, 1, 2, 3, 4]\n",
      "[0, 1, 2, 3, 4]\n"
     ]
    }
   ],
   "source": [
    "dir = {x : x**2 for x in range(5)}\n",
    "print(dir)\n",
    "lis = [x for x in range(5)]  # 生成列表\n",
    "print(lis)\n",
    "tup = (x for x in range(5))  # ！注意：并不是生成元组\n",
    "print(list(tup))\n"
   ]
  },
  {
   "cell_type": "markdown",
   "metadata": {},
   "source": [
    "# [Generator 生成器](https://docs.python.org/3/tutorial/classes.html#generators)\n",
    "\n",
    "如果range()中的数字非常大，大到内存无法全部加载，这时我们就要考虑生成器了"
   ]
  },
  {
   "cell_type": "code",
   "execution_count": 31,
   "metadata": {},
   "outputs": [
    {
     "name": "stdout",
     "output_type": "stream",
     "text": [
      "<class 'generator'>\n",
      "gen: 112\n",
      "list: 800984\n"
     ]
    }
   ],
   "source": [
    "from sys import getsizeof\n",
    "\n",
    "values = (x * 2 for x in range(100000))\n",
    "print(type(values))\n",
    "print(\"gen:\" , getsizeof(values))  # gen: 112 不论range中的数怎么变，values都是占用112个字节\n",
    "values = [x * 2 for x in range(100000)]\n",
    "print(\"list:\" , getsizeof(values))  # 可以看到数组占用的内存很大"
   ]
  },
  {
   "cell_type": "markdown",
   "metadata": {},
   "source": [
    "# [Unpacking Operator](https://docs.python.org/3/tutorial/controlflow.html#unpacking-argument-lists)\n",
    "\n",
    "有点像c的解引用，可以对任何迭代器使用"
   ]
  },
  {
   "cell_type": "code",
   "execution_count": 32,
   "metadata": {},
   "outputs": [
    {
     "name": "stdout",
     "output_type": "stream",
     "text": [
      "[1, 2, 3]\n",
      "1 2 3\n",
      "1 2 3\n"
     ]
    }
   ],
   "source": [
    "numbers = [1,2,3]\n",
    "print(numbers)\n",
    "print(*numbers)  # unpacking\n",
    "print(1,2,3)"
   ]
  },
  {
   "cell_type": "code",
   "execution_count": 33,
   "metadata": {},
   "outputs": [
    {
     "name": "stdout",
     "output_type": "stream",
     "text": [
      "{'x': 10, 'y': 2, 'z': 1}\n"
     ]
    }
   ],
   "source": [
    "first = {\"x\": 1}\n",
    "second = {\"x\": 10, \"y\": 2}\n",
    "combined = {**first, **second, \"z\": 1}\n",
    "print(combined)  # 如果有重复项，选择靠后的参数"
   ]
  },
  {
   "cell_type": "code",
   "execution_count": 57,
   "metadata": {},
   "outputs": [
    {
     "name": "stdout",
     "output_type": "stream",
     "text": [
      "{'i': 5, ' ': 5, 's': 3, 'o': 3, 'n': 3, 'e': 3, 'm': 2, 't': 2, 'T': 1, 'h': 1, 'a': 1, 'c': 1, 'r': 1, 'v': 1, 'w': 1, 'q': 1, 'u': 1}\n"
     ]
    }
   ],
   "source": [
    "# 小练习\n",
    "from pprint import pprint\n",
    "sentence = \"This is a common interview question\"\n",
    "dir = {}\n",
    "for letter in sentence:\n",
    "    if not letter in dir:\n",
    "        dir[letter] = 0\n",
    "    dir[letter] += 1\n",
    "# pprint(dir, width=1) # 输出友好化\n",
    "dirs = {k:v for k, v in sorted(dir.items(), key=lambda item : item[1], reverse=True)}  # 根据值排序并映射\n",
    "d = sorted(\n",
    "    dir.items(), \n",
    "    key=lambda item : item[1], \n",
    "    reverse=True)  # 排完序直接返回第一个值，这是mosh的答案与排版\n",
    "print(dirs)\n"
   ]
  }
 ],
 "metadata": {
  "interpreter": {
   "hash": "1baa965d5efe3ac65b79dfc60c0d706280b1da80fedb7760faf2759126c4f253"
  },
  "kernelspec": {
   "display_name": "Python 3 (ipykernel)",
   "language": "python",
   "name": "python3"
  },
  "language_info": {
   "codemirror_mode": {
    "name": "ipython",
    "version": 3
   },
   "file_extension": ".py",
   "mimetype": "text/x-python",
   "name": "python",
   "nbconvert_exporter": "python",
   "pygments_lexer": "ipython3",
   "version": "3.9.7"
  }
 },
 "nbformat": 4,
 "nbformat_minor": 2
}
