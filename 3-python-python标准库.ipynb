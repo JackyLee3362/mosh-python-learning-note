{
 "cells": [
  {
   "cell_type": "markdown",
   "id": "d25af8b5",
   "metadata": {},
   "source": [
    "# [Path 路径](https://docs.python.org/3/library/pathlib.html#module-pathlib)"
   ]
  },
  {
   "cell_type": "code",
   "execution_count": 27,
   "id": "0b174bda",
   "metadata": {},
   "outputs": [
    {
     "name": "stdout",
     "output_type": "stream",
     "text": [
      "JackyLee\n",
      "JackyLee\n",
      "\n",
      "C:\\Users\n",
      "C:\\Users\\file.txt\n",
      "C:\\Users\\JackyLee\n"
     ]
    }
   ],
   "source": [
    "from pathlib import Path\n",
    "\n",
    "Path(r\"C:\\Program Files\\ \")  # raw-string 反斜杠不被认为是转义符\n",
    "Path(\"/usr/local/bin\")  # Unix/Linux/Mac\n",
    "Path(\"usr/\") / Path(\"Program\") / \"Hello\" # 使用/运算符连接路径\n",
    "Path.home() # 返回主目录\n",
    "path = Path.home()\n",
    "path.exists()  # True\n",
    "path.is_file() # False\n",
    "path.is_dir()  # True\n",
    "print(path.name)  # 如果指向文件，则会返回文件全名\n",
    "print(path.stem)  # 如果是文件，会除去后缀名后返回\n",
    "print(path.suffix) # 返回文件后缀\n",
    "print(path.parent) # 返回父文件夹\n",
    "print(path.with_name(\"file.txt\"))  # 在path文件目录下创建一个叫file.txt的文件\n",
    "print(path.absolute())"
   ]
  },
  {
   "cell_type": "markdown",
   "id": "90dc115c",
   "metadata": {},
   "source": [
    "## 对目录进行操作"
   ]
  },
  {
   "cell_type": "code",
   "execution_count": 67,
   "id": "e6c71aec",
   "metadata": {},
   "outputs": [
    {
     "name": "stdout",
     "output_type": "stream",
     "text": [
      "D:\\OneDrive\\Program\\Jupyter\\test\n",
      "<generator object Path.iterdir at 0x0000026CDDE892E0>\n",
      "test\\hello.txt\n",
      "test\\subdir\n",
      "test\\test.md\n",
      "[WindowsPath('test/subdir')]\n",
      "[WindowsPath('test/test.md'), WindowsPath('test/subdir/todo.md')]\n"
     ]
    }
   ],
   "source": [
    "from pathlib import Path\n",
    "path = Path(\"test\")\n",
    "print(path.absolute())\n",
    "# path.exists()\n",
    "# path.mkdir()\n",
    "# path.rmdir()\n",
    "# path.rename(name)\n",
    "\n",
    "print(path.iterdir())\n",
    "for p in path.iterdir():  # 生成器\n",
    "    print(p)\n",
    "files = [p for p in path.iterdir() if p.is_dir()]  # 变成列表\n",
    "print(files)\n",
    "\n",
    "md_files = [p for p in path.glob(\"*.md\")]  # 使用通配符查找特定后缀文件\n",
    "md_files = [p for p in path.glob(\"**/*.md\")]  # 使用通配符查找特定后缀文件\n",
    "print(md_files)\n"
   ]
  },
  {
   "cell_type": "markdown",
   "id": "e8ddca36",
   "metadata": {},
   "source": [
    "## 对普通文件进行操作 `00:09:55`"
   ]
  },
  {
   "cell_type": "code",
   "execution_count": 100,
   "id": "bdfa136b",
   "metadata": {},
   "outputs": [
    {
     "name": "stdout",
     "output_type": "stream",
     "text": [
      "os.stat_result(st_mode=33206, st_ino=1125899907370986, st_dev=3799934004, st_nlink=1, st_uid=0, st_gid=0, st_size=3, st_atime=1650641082, st_mtime=1650640819, st_ctime=1650640649)\n",
      "1650640649.5477602\n",
      "Fri Apr 22 23:17:29 2022\n",
      "123\n"
     ]
    }
   ],
   "source": [
    "from pathlib import Path\n",
    "from time import ctime\n",
    "path = Path(\"test\")\n",
    "file = Path(\"test/test.md\")\n",
    "# file.rename(\"test/init.txt\")\n",
    "# print(file.unlink())  # 如果是普通文件，unlink后就会消失\n",
    "print(file.stat())\n",
    "print(file.stat().st_ctime)\n",
    "print(ctime(file.stat().st_ctime))\n",
    "# print(path.read_text())  # permisson denied\n",
    "# print(path.write_test(\"...\"))  # permisson denied\n",
    "with open(\"test/test.md\", \"r\") as f:\n",
    "    print(f.read())\n",
    "    \n"
   ]
  },
  {
   "cell_type": "markdown",
   "id": "e1c15646",
   "metadata": {},
   "source": [
    "### 拷贝文件"
   ]
  },
  {
   "cell_type": "code",
   "execution_count": 99,
   "id": "9a4e5786",
   "metadata": {},
   "outputs": [
    {
     "data": {
      "text/plain": [
       "WindowsPath('test.md')"
      ]
     },
     "execution_count": 99,
     "metadata": {},
     "output_type": "execute_result"
    }
   ],
   "source": [
    "from pathlib import Path\n",
    "import shutil\n",
    "\n",
    "source = Path(\"test/test.md\")\n",
    "target = Path() / \"test.md\"\n",
    "\n",
    "# target.write_text(source.read_text())  # 太复杂\n",
    "shutil.copy(source, target)"
   ]
  },
  {
   "cell_type": "markdown",
   "id": "6c6aeec8",
   "metadata": {},
   "source": [
    "## 对压缩文件进行操作"
   ]
  },
  {
   "cell_type": "code",
   "execution_count": 122,
   "id": "c3ad45d9",
   "metadata": {},
   "outputs": [
    {
     "name": "stdout",
     "output_type": "stream",
     "text": [
      "['test/hello.txt', 'test/test.md', 'test/subdir/todo.md']\n",
      "3\n",
      "3\n"
     ]
    }
   ],
   "source": [
    "from pathlib import Path\n",
    "from zipfile import ZipFile\n",
    "\n",
    "with ZipFile(\"files.zip\", \"w\") as zip:\n",
    "    for path in Path(\"test\").rglob(\"*.*\"):\n",
    "        zip.write(path)\n",
    "with ZipFile(\"files.zip\", \"r\") as zip:\n",
    "    print(zip.namelist())\n",
    "    info = zip.getinfo(\"test/test.md\")\n",
    "    print(info.file_size)\n",
    "    print(info.compress_size)\n",
    "    zip.extractall(\"extract\")"
   ]
  },
  {
   "cell_type": "markdown",
   "id": "c37c4a6c",
   "metadata": {},
   "source": [
    "## 对CSV文件进行操作"
   ]
  },
  {
   "cell_type": "code",
   "execution_count": 133,
   "id": "6e9283b9",
   "metadata": {},
   "outputs": [
    {
     "name": "stdout",
     "output_type": "stream",
     "text": [
      "['交易号', '产品号', '价格']\n",
      "['1000', '1', '5']\n",
      "['1001', '2', '6']\n"
     ]
    }
   ],
   "source": [
    "from pathlib import Path\n",
    "import csv\n",
    "# 写操作\n",
    "with open(\"data.csv\", \"w\", newline='') as file:  # windows需要加上newline=''\n",
    "    writer = csv.writer(file)\n",
    "    writer.writerow([\"交易号\", \"产品号\", \"价格\"])\n",
    "    writer.writerow([1000, 1, 5])\n",
    "    writer.writerow([1001, 2, 6])\n",
    "# 读操作\n",
    "with open(\"data.csv\") as file: \n",
    "    reader = csv.reader(file)\n",
    "#     print(list(reader))  # 文件头会走到最后\n",
    "    for row in reader:\n",
    "        print(row)\n"
   ]
  },
  {
   "cell_type": "markdown",
   "id": "9cfba6c6",
   "metadata": {},
   "source": [
    "## 对JSON文件进行操作"
   ]
  },
  {
   "cell_type": "code",
   "execution_count": 142,
   "id": "30b9e946",
   "metadata": {},
   "outputs": [
    {
     "name": "stdout",
     "output_type": "stream",
     "text": [
      "[{\"id\": 1, \"title\": \"Terminator\", \"year\": 1989}, {\"id\": 2, \"title\": \"Lion\", \"year\": 1997}]\n",
      "{'id': 1, 'title': 'Terminator', 'year': 1989}\n"
     ]
    }
   ],
   "source": [
    "from pathlib import Path\n",
    "import json\n",
    "movies = [\n",
    "    {\"id\":1, \"title\": \"Terminator\", \"year\": 1989},\n",
    "    {\"id\":2, \"title\": \"Lion\", \"year\": 1997}\n",
    "]\n",
    "\n",
    "data = json.dumps(movies)\n",
    "\n",
    "with open(\"moives.json\", \"wt\") as f:\n",
    "    f.write(data)\n",
    "with open(\"moives.json\", \"rt\") as f:\n",
    "    data = f.read()\n",
    "    print(data)\n",
    "    movies = json.loads(data)\n",
    "    print(movies[0])"
   ]
  },
  {
   "cell_type": "markdown",
   "id": "5fb576e0",
   "metadata": {},
   "source": [
    "## 对数据库SQLite处理\n",
    "\n",
    "[sqlite数据库下载](https://sqlitebrowser.org/dl/)"
   ]
  },
  {
   "cell_type": "code",
   "execution_count": 153,
   "id": "e9effbdd",
   "metadata": {},
   "outputs": [
    {
     "name": "stdout",
     "output_type": "stream",
     "text": [
      "[{'id': 1, 'title': 'Terminator', 'year': 1989}, {'id': 2, 'title': 'Lion', 'year': 1997}]\n",
      "dict_values([1, 'Terminator', 1989])\n",
      "(1, 'Terminator', 1989)\n"
     ]
    }
   ],
   "source": [
    "import sqlite3\n",
    "import json\n",
    "from pathlib import Path\n",
    "\n",
    "# 读入json数据\n",
    "movies = []\n",
    "with open(\"moives.json\", \"rt\") as f:\n",
    "    movies = json.loads(f.read())\n",
    "print(movies)\n",
    "\n",
    "with sqlite3.connect(\"db.sqlite3\") as conn:\n",
    "    command = \"INSERT INTO Movies VALUES(?, ?, ?)\"\n",
    "    # 创建数据库的部分在视频30min左右\n",
    "    print(movies[0].values())\n",
    "    print(tuple(movies[0].values()))\n",
    "    for movie in movies:\n",
    "        conn.execute(command,tuple(movie.values()))\n",
    "    conn.commit()"
   ]
  },
  {
   "cell_type": "markdown",
   "id": "2c4d4801",
   "metadata": {},
   "source": [
    "### 从Sqlite读取数据"
   ]
  },
  {
   "cell_type": "code",
   "execution_count": 157,
   "id": "05079917",
   "metadata": {},
   "outputs": [
    {
     "name": "stdout",
     "output_type": "stream",
     "text": [
      "[(1, 'Terminator', 1989), (2, 'Lion', 1997)]\n"
     ]
    }
   ],
   "source": [
    "import sqlite3\n",
    "import json\n",
    "from pathlib import Path\n",
    "\n",
    "with sqlite3.connect(\"db.sqlite3\") as conn:\n",
    "    command = \"SELECT * FROM Movies\"\n",
    "    cursor = conn.execute(command)\n",
    "#     for row in cursor:\n",
    "#         print(row)\n",
    "    movies = cursor.fetchall() # 和上面等价，返回的是一个列表\n",
    "    print(movies)"
   ]
  },
  {
   "cell_type": "markdown",
   "id": "902cfe67",
   "metadata": {},
   "source": [
    "## 处理时间戳"
   ]
  },
  {
   "cell_type": "code",
   "execution_count": 159,
   "id": "8e8edefc",
   "metadata": {},
   "outputs": [
    {
     "name": "stdout",
     "output_type": "stream",
     "text": [
      "0.0010004043579101562\n"
     ]
    }
   ],
   "source": [
    "import time\n",
    "\n",
    "def send_emails():\n",
    "    for i in range(10000):\n",
    "        pass\n",
    "    \n",
    "start = time.time()\n",
    "send_emails()\n",
    "end = time.time()\n",
    "duration = end - start\n",
    "print(duration)"
   ]
  },
  {
   "cell_type": "markdown",
   "id": "a566bc49",
   "metadata": {},
   "source": [
    "## 处理普通时间格式\n",
    "\n",
    "关于strptime的格式，可以看[官网](https://docs.python.org/3/library/datetime.html#strftime-and-strptime-format-codes)"
   ]
  },
  {
   "cell_type": "code",
   "execution_count": 173,
   "id": "17b82177",
   "metadata": {},
   "outputs": [
    {
     "name": "stdout",
     "output_type": "stream",
     "text": [
      "2022-04-23 01:48:51.417108\n",
      "2022/4\n",
      "2022/04\n"
     ]
    }
   ],
   "source": [
    "from datetime import datetime\n",
    "import time\n",
    "\n",
    "dt = datetime(2018, 1, 1)\n",
    "dt = datetime.now()\n",
    "dt = datetime.strptime(\"2020/01/02\", \"%Y/%m/%d\")\n",
    "dt = datetime.fromtimestamp(time.time())\n",
    "print(dt)\n",
    "print(f\"{dt.year}/{dt.month}\")\n",
    "print(dt.strftime(\"%Y/%m\"))\n",
    "print()\n",
    "      "
   ]
  },
  {
   "cell_type": "markdown",
   "id": "4e2b7300",
   "metadata": {},
   "source": [
    "## 处理 Δt （时间差）"
   ]
  },
  {
   "cell_type": "code",
   "execution_count": 180,
   "id": "6fe5612f",
   "metadata": {},
   "outputs": [
    {
     "name": "stdout",
     "output_type": "stream",
     "text": [
      "112 days, 13:20:16.137484\n",
      "days 112\n",
      "seconds 48016\n",
      "total_seconds 9724816.137484\n",
      "0:10:00\n"
     ]
    }
   ],
   "source": [
    "from datetime import datetime, timedelta\n",
    "\n",
    "dt1 = datetime(2022, 1, 1) \n",
    "dt2 = datetime.now()\n",
    "duration = dt2 - dt1\n",
    "print(duration)\n",
    "print(\"days\", duration.days)\n",
    "print(\"seconds\", duration.seconds)\n",
    "print(\"total_seconds\", duration.total_seconds())\n",
    "\n",
    "dt3 = datetime(2022, 2, 2) + timedelta(1)\n",
    "dt4 = datetime(2022, 2, 2) + timedelta(days=1,seconds=600)\n",
    "print(dt4 - dt3)"
   ]
  },
  {
   "cell_type": "markdown",
   "id": "21964cdb",
   "metadata": {},
   "source": [
    "## 生成随机数"
   ]
  },
  {
   "cell_type": "code",
   "execution_count": 208,
   "id": "c4273edd",
   "metadata": {},
   "outputs": [
    {
     "name": "stdout",
     "output_type": "stream",
     "text": [
      "['a', 2, 3, 1]\n"
     ]
    }
   ],
   "source": [
    "import random\n",
    "\n",
    "random.random() # 生成一个0~1的随机数\n",
    "random.randint(1,10)  # 生成一个1~10的随机数，左闭右闭\n",
    "random.choice([1,2,3,4])  # 从给定范围内选择1次\n",
    "random.choices([1,2,3,4], k=5)  # 从给定范围内选择k次\n",
    "random.choices(\"abcdefghi\", k=4) # 从给定字符串中选择k次\n",
    "\"\".join(random.choices(\"abcdefghi\", k=4)) # 从给定字符串中选择k次，并返回一个字符串\n",
    "\n",
    "import string\n",
    "random.choices(string.ascii_letters, k=4) # 从ascii字符中选择或者（string.ascii_lowercase、string.ascii_uppercase）\n",
    "numbers = [1,2,3,'a']\n",
    "random.shuffle(numbers)  # 对列表中的元素随机排序（洗牌）\n",
    "print(numbers)"
   ]
  },
  {
   "cell_type": "markdown",
   "id": "9d822d71",
   "metadata": {},
   "source": [
    "## 浏览器 `49:30`"
   ]
  },
  {
   "cell_type": "code",
   "execution_count": 210,
   "id": "7bc5eae3",
   "metadata": {},
   "outputs": [
    {
     "data": {
      "text/plain": [
       "True"
      ]
     },
     "execution_count": 210,
     "metadata": {},
     "output_type": "execute_result"
    }
   ],
   "source": [
    "import webbrowser\n",
    "webbrowser.open(\"http://baidu.com\")"
   ]
  },
  {
   "cell_type": "markdown",
   "id": "d6416681",
   "metadata": {},
   "source": [
    "## 写邮件 `54:23`"
   ]
  },
  {
   "cell_type": "code",
   "execution_count": null,
   "id": "b02ca2f2",
   "metadata": {},
   "outputs": [],
   "source": [
    "from email.mime.multipart import MIMEMultipart\n",
    "from email.mime.text import MIMEText\n",
    "import smtplib\n",
    "\n",
    "message = MIMEMultipart()\n",
    "message[\"from\"] = \"Jackylee\"\n",
    "message[\"to\"] = \"779557618@qq.com\"\n",
    "message[\"subject\"] = \"this is a test\"\n",
    "message.attach(MIMEText(\"Body\"))\n",
    "with smtplib.SMTP(host=\"smtp.gmail.com\", port=587) as smtp:\n",
    "    smtp.ehlo()\n",
    "    smtp.starttls()\n",
    "    smtp.login(\"xxx@xxx.com\", \"xxx\")\n",
    "    smtp.send_message(message)\n",
    "    print(\"send...\")"
   ]
  },
  {
   "cell_type": "markdown",
   "id": "21e9c6b6",
   "metadata": {},
   "source": [
    "## 模板 `57:32`"
   ]
  },
  {
   "cell_type": "code",
   "execution_count": 217,
   "id": "85e07925",
   "metadata": {},
   "outputs": [],
   "source": [
    "from string import Template"
   ]
  },
  {
   "cell_type": "markdown",
   "id": "90c1f913",
   "metadata": {},
   "source": [
    "## 命令行 `1:02:25`"
   ]
  },
  {
   "cell_type": "code",
   "execution_count": 218,
   "id": "49f7e87f",
   "metadata": {},
   "outputs": [
    {
     "name": "stdout",
     "output_type": "stream",
     "text": [
      "['C:\\\\Users\\\\JackyLee\\\\AppData\\\\Roaming\\\\Python\\\\Python39\\\\site-packages\\\\ipykernel_launcher.py', '-f', 'C:\\\\Users\\\\JackyLee\\\\AppData\\\\Roaming\\\\jupyter\\\\runtime\\\\kernel-50ce709e-963e-4382-95d4-84f8cd015714.json']\n"
     ]
    }
   ],
   "source": [
    "import sys\n",
    "print(sys.argv)"
   ]
  },
  {
   "cell_type": "markdown",
   "id": "0073a3c0",
   "metadata": {},
   "source": [
    "## 运行外部程序 `1:05:42`"
   ]
  },
  {
   "cell_type": "code",
   "execution_count": 221,
   "id": "9aef6288",
   "metadata": {},
   "outputs": [
    {
     "ename": "FileNotFoundError",
     "evalue": "[WinError 2] 系统找不到指定的文件。",
     "output_type": "error",
     "traceback": [
      "\u001b[1;31m---------------------------------------------------------------------------\u001b[0m",
      "\u001b[1;31mFileNotFoundError\u001b[0m                         Traceback (most recent call last)",
      "Input \u001b[1;32mIn [221]\u001b[0m, in \u001b[0;36m<cell line: 2>\u001b[1;34m()\u001b[0m\n\u001b[0;32m      1\u001b[0m \u001b[38;5;28;01mimport\u001b[39;00m \u001b[38;5;21;01msubprocess\u001b[39;00m\n\u001b[1;32m----> 2\u001b[0m \u001b[43msubprocess\u001b[49m\u001b[38;5;241;43m.\u001b[39;49m\u001b[43mrun\u001b[49m\u001b[43m(\u001b[49m\u001b[43m[\u001b[49m\u001b[38;5;124;43m\"\u001b[39;49m\u001b[38;5;124;43mdir\u001b[39;49m\u001b[38;5;124;43m\"\u001b[39;49m\u001b[43m,\u001b[49m\u001b[43m \u001b[49m\u001b[38;5;124;43m\"\u001b[39;49m\u001b[38;5;124;43m\"\u001b[39;49m\u001b[43m]\u001b[49m\u001b[43m)\u001b[49m\n",
      "File \u001b[1;32m~\\anaconda3\\lib\\subprocess.py:505\u001b[0m, in \u001b[0;36mrun\u001b[1;34m(input, capture_output, timeout, check, *popenargs, **kwargs)\u001b[0m\n\u001b[0;32m    502\u001b[0m     kwargs[\u001b[38;5;124m'\u001b[39m\u001b[38;5;124mstdout\u001b[39m\u001b[38;5;124m'\u001b[39m] \u001b[38;5;241m=\u001b[39m PIPE\n\u001b[0;32m    503\u001b[0m     kwargs[\u001b[38;5;124m'\u001b[39m\u001b[38;5;124mstderr\u001b[39m\u001b[38;5;124m'\u001b[39m] \u001b[38;5;241m=\u001b[39m PIPE\n\u001b[1;32m--> 505\u001b[0m \u001b[38;5;28;01mwith\u001b[39;00m Popen(\u001b[38;5;241m*\u001b[39mpopenargs, \u001b[38;5;241m*\u001b[39m\u001b[38;5;241m*\u001b[39mkwargs) \u001b[38;5;28;01mas\u001b[39;00m process:\n\u001b[0;32m    506\u001b[0m     \u001b[38;5;28;01mtry\u001b[39;00m:\n\u001b[0;32m    507\u001b[0m         stdout, stderr \u001b[38;5;241m=\u001b[39m process\u001b[38;5;241m.\u001b[39mcommunicate(\u001b[38;5;28minput\u001b[39m, timeout\u001b[38;5;241m=\u001b[39mtimeout)\n",
      "File \u001b[1;32m~\\anaconda3\\lib\\subprocess.py:951\u001b[0m, in \u001b[0;36mPopen.__init__\u001b[1;34m(self, args, bufsize, executable, stdin, stdout, stderr, preexec_fn, close_fds, shell, cwd, env, universal_newlines, startupinfo, creationflags, restore_signals, start_new_session, pass_fds, user, group, extra_groups, encoding, errors, text, umask)\u001b[0m\n\u001b[0;32m    947\u001b[0m         \u001b[38;5;28;01mif\u001b[39;00m \u001b[38;5;28mself\u001b[39m\u001b[38;5;241m.\u001b[39mtext_mode:\n\u001b[0;32m    948\u001b[0m             \u001b[38;5;28mself\u001b[39m\u001b[38;5;241m.\u001b[39mstderr \u001b[38;5;241m=\u001b[39m io\u001b[38;5;241m.\u001b[39mTextIOWrapper(\u001b[38;5;28mself\u001b[39m\u001b[38;5;241m.\u001b[39mstderr,\n\u001b[0;32m    949\u001b[0m                     encoding\u001b[38;5;241m=\u001b[39mencoding, errors\u001b[38;5;241m=\u001b[39merrors)\n\u001b[1;32m--> 951\u001b[0m     \u001b[38;5;28;43mself\u001b[39;49m\u001b[38;5;241;43m.\u001b[39;49m\u001b[43m_execute_child\u001b[49m\u001b[43m(\u001b[49m\u001b[43margs\u001b[49m\u001b[43m,\u001b[49m\u001b[43m \u001b[49m\u001b[43mexecutable\u001b[49m\u001b[43m,\u001b[49m\u001b[43m \u001b[49m\u001b[43mpreexec_fn\u001b[49m\u001b[43m,\u001b[49m\u001b[43m \u001b[49m\u001b[43mclose_fds\u001b[49m\u001b[43m,\u001b[49m\n\u001b[0;32m    952\u001b[0m \u001b[43m                        \u001b[49m\u001b[43mpass_fds\u001b[49m\u001b[43m,\u001b[49m\u001b[43m \u001b[49m\u001b[43mcwd\u001b[49m\u001b[43m,\u001b[49m\u001b[43m \u001b[49m\u001b[43menv\u001b[49m\u001b[43m,\u001b[49m\n\u001b[0;32m    953\u001b[0m \u001b[43m                        \u001b[49m\u001b[43mstartupinfo\u001b[49m\u001b[43m,\u001b[49m\u001b[43m \u001b[49m\u001b[43mcreationflags\u001b[49m\u001b[43m,\u001b[49m\u001b[43m \u001b[49m\u001b[43mshell\u001b[49m\u001b[43m,\u001b[49m\n\u001b[0;32m    954\u001b[0m \u001b[43m                        \u001b[49m\u001b[43mp2cread\u001b[49m\u001b[43m,\u001b[49m\u001b[43m \u001b[49m\u001b[43mp2cwrite\u001b[49m\u001b[43m,\u001b[49m\n\u001b[0;32m    955\u001b[0m \u001b[43m                        \u001b[49m\u001b[43mc2pread\u001b[49m\u001b[43m,\u001b[49m\u001b[43m \u001b[49m\u001b[43mc2pwrite\u001b[49m\u001b[43m,\u001b[49m\n\u001b[0;32m    956\u001b[0m \u001b[43m                        \u001b[49m\u001b[43merrread\u001b[49m\u001b[43m,\u001b[49m\u001b[43m \u001b[49m\u001b[43merrwrite\u001b[49m\u001b[43m,\u001b[49m\n\u001b[0;32m    957\u001b[0m \u001b[43m                        \u001b[49m\u001b[43mrestore_signals\u001b[49m\u001b[43m,\u001b[49m\n\u001b[0;32m    958\u001b[0m \u001b[43m                        \u001b[49m\u001b[43mgid\u001b[49m\u001b[43m,\u001b[49m\u001b[43m \u001b[49m\u001b[43mgids\u001b[49m\u001b[43m,\u001b[49m\u001b[43m \u001b[49m\u001b[43muid\u001b[49m\u001b[43m,\u001b[49m\u001b[43m \u001b[49m\u001b[43mumask\u001b[49m\u001b[43m,\u001b[49m\n\u001b[0;32m    959\u001b[0m \u001b[43m                        \u001b[49m\u001b[43mstart_new_session\u001b[49m\u001b[43m)\u001b[49m\n\u001b[0;32m    960\u001b[0m \u001b[38;5;28;01mexcept\u001b[39;00m:\n\u001b[0;32m    961\u001b[0m     \u001b[38;5;66;03m# Cleanup if the child failed starting.\u001b[39;00m\n\u001b[0;32m    962\u001b[0m     \u001b[38;5;28;01mfor\u001b[39;00m f \u001b[38;5;129;01min\u001b[39;00m \u001b[38;5;28mfilter\u001b[39m(\u001b[38;5;28;01mNone\u001b[39;00m, (\u001b[38;5;28mself\u001b[39m\u001b[38;5;241m.\u001b[39mstdin, \u001b[38;5;28mself\u001b[39m\u001b[38;5;241m.\u001b[39mstdout, \u001b[38;5;28mself\u001b[39m\u001b[38;5;241m.\u001b[39mstderr)):\n",
      "File \u001b[1;32m~\\anaconda3\\lib\\subprocess.py:1420\u001b[0m, in \u001b[0;36mPopen._execute_child\u001b[1;34m(self, args, executable, preexec_fn, close_fds, pass_fds, cwd, env, startupinfo, creationflags, shell, p2cread, p2cwrite, c2pread, c2pwrite, errread, errwrite, unused_restore_signals, unused_gid, unused_gids, unused_uid, unused_umask, unused_start_new_session)\u001b[0m\n\u001b[0;32m   1418\u001b[0m \u001b[38;5;66;03m# Start the process\u001b[39;00m\n\u001b[0;32m   1419\u001b[0m \u001b[38;5;28;01mtry\u001b[39;00m:\n\u001b[1;32m-> 1420\u001b[0m     hp, ht, pid, tid \u001b[38;5;241m=\u001b[39m \u001b[43m_winapi\u001b[49m\u001b[38;5;241;43m.\u001b[39;49m\u001b[43mCreateProcess\u001b[49m\u001b[43m(\u001b[49m\u001b[43mexecutable\u001b[49m\u001b[43m,\u001b[49m\u001b[43m \u001b[49m\u001b[43margs\u001b[49m\u001b[43m,\u001b[49m\n\u001b[0;32m   1421\u001b[0m \u001b[43m                             \u001b[49m\u001b[38;5;66;43;03m# no special security\u001b[39;49;00m\n\u001b[0;32m   1422\u001b[0m \u001b[43m                             \u001b[49m\u001b[38;5;28;43;01mNone\u001b[39;49;00m\u001b[43m,\u001b[49m\u001b[43m \u001b[49m\u001b[38;5;28;43;01mNone\u001b[39;49;00m\u001b[43m,\u001b[49m\n\u001b[0;32m   1423\u001b[0m \u001b[43m                             \u001b[49m\u001b[38;5;28;43mint\u001b[39;49m\u001b[43m(\u001b[49m\u001b[38;5;129;43;01mnot\u001b[39;49;00m\u001b[43m \u001b[49m\u001b[43mclose_fds\u001b[49m\u001b[43m)\u001b[49m\u001b[43m,\u001b[49m\n\u001b[0;32m   1424\u001b[0m \u001b[43m                             \u001b[49m\u001b[43mcreationflags\u001b[49m\u001b[43m,\u001b[49m\n\u001b[0;32m   1425\u001b[0m \u001b[43m                             \u001b[49m\u001b[43menv\u001b[49m\u001b[43m,\u001b[49m\n\u001b[0;32m   1426\u001b[0m \u001b[43m                             \u001b[49m\u001b[43mcwd\u001b[49m\u001b[43m,\u001b[49m\n\u001b[0;32m   1427\u001b[0m \u001b[43m                             \u001b[49m\u001b[43mstartupinfo\u001b[49m\u001b[43m)\u001b[49m\n\u001b[0;32m   1428\u001b[0m \u001b[38;5;28;01mfinally\u001b[39;00m:\n\u001b[0;32m   1429\u001b[0m     \u001b[38;5;66;03m# Child is launched. Close the parent's copy of those pipe\u001b[39;00m\n\u001b[0;32m   1430\u001b[0m     \u001b[38;5;66;03m# handles that only the child should have open.  You need\u001b[39;00m\n\u001b[1;32m   (...)\u001b[0m\n\u001b[0;32m   1433\u001b[0m     \u001b[38;5;66;03m# pipe will not close when the child process exits and the\u001b[39;00m\n\u001b[0;32m   1434\u001b[0m     \u001b[38;5;66;03m# ReadFile will hang.\u001b[39;00m\n\u001b[0;32m   1435\u001b[0m     \u001b[38;5;28mself\u001b[39m\u001b[38;5;241m.\u001b[39m_close_pipe_fds(p2cread, p2cwrite,\n\u001b[0;32m   1436\u001b[0m                          c2pread, c2pwrite,\n\u001b[0;32m   1437\u001b[0m                          errread, errwrite)\n",
      "\u001b[1;31mFileNotFoundError\u001b[0m: [WinError 2] 系统找不到指定的文件。"
     ]
    }
   ],
   "source": [
    "import subprocess\n",
    "completed = subprocess.run([\"dir\", \"\"])  # linux [\"ls\", \"-l\"]"
   ]
  },
  {
   "cell_type": "code",
   "execution_count": null,
   "id": "d6cfbb33",
   "metadata": {},
   "outputs": [],
   "source": []
  }
 ],
 "metadata": {
  "kernelspec": {
   "display_name": "Python 3 (ipykernel)",
   "language": "python",
   "name": "python3"
  },
  "language_info": {
   "codemirror_mode": {
    "name": "ipython",
    "version": 3
   },
   "file_extension": ".py",
   "mimetype": "text/x-python",
   "name": "python",
   "nbconvert_exporter": "python",
   "pygments_lexer": "ipython3",
   "version": "3.9.7"
  }
 },
 "nbformat": 4,
 "nbformat_minor": 5
}
