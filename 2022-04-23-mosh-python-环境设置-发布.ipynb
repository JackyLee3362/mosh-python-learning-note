{
 "cells": [
  {
   "cell_type": "markdown",
   "id": "8b2e637b",
   "metadata": {},
   "source": [
    "## 如何配置虚拟环境 \n",
    "\n",
    "首先提到pypi.org这个网站\n",
    "\n",
    "然后提到pip，env，pipenv，版本的一些东西（现在还不是很感兴趣，以后可能挺有用的）"
   ]
  },
  {
   "cell_type": "markdown",
   "id": "09978e9e",
   "metadata": {},
   "source": [
    "## 如何发布包\n",
    "\n",
    "setuptools，主要是对包发布的一些设置"
   ]
  },
  {
   "cell_type": "code",
   "execution_count": 6,
   "id": "34f2913d",
   "metadata": {},
   "outputs": [],
   "source": [
    "import setuptools\n",
    "from pathlib import Path\n",
    "\n",
    "# setuptools.setup(\n",
    "#     name=\"jackypdf\",\n",
    "#     version=1.0,\n",
    "#     long_description=Path(\"README.md\").read_text(encoding=\"utf-8\"), # 33min左右\n",
    "#     packages=setuptools.find_packages(exclude=[\"tests\", \"data\"])\n",
    "# )"
   ]
  },
  {
   "cell_type": "markdown",
   "id": "7b8c00af",
   "metadata": {},
   "source": [
    "## 如何写python文档注释"
   ]
  },
  {
   "cell_type": "code",
   "execution_count": 7,
   "id": "7a761f73",
   "metadata": {},
   "outputs": [],
   "source": [
    "\"\"\"\n",
    "在文档开头写\n",
    "\"\"\"\n",
    "\n",
    "import math\n",
    "\n",
    "def addstr(left, right):\n",
    "    \"\"\"左边的字符串连上右边的字符串\n",
    "    \n",
    "    Parameters:\n",
    "    left(str): 左边的字符串\n",
    "    right(str): 右边的字符串\n",
    "    \n",
    "    Returns:\n",
    "    str\n",
    "    \"\"\"\n",
    "    return left + right"
   ]
  },
  {
   "cell_type": "markdown",
   "id": "dea42f25",
   "metadata": {},
   "source": [
    "## pydoc"
   ]
  },
  {
   "cell_type": "code",
   "execution_count": 9,
   "id": "17005dd5",
   "metadata": {},
   "outputs": [],
   "source": [
    "# $> pydoc math\n",
    "# $> pydoc math.cos\n",
    "# $> pydoc -w math.cos  # 生成html文件可以查看\n",
    "# $> pydoc -p 1234  # 生成服务器"
   ]
  }
 ],
 "metadata": {
  "kernelspec": {
   "display_name": "Python 3 (ipykernel)",
   "language": "python",
   "name": "python3"
  },
  "language_info": {
   "codemirror_mode": {
    "name": "ipython",
    "version": 3
   },
   "file_extension": ".py",
   "mimetype": "text/x-python",
   "name": "python",
   "nbconvert_exporter": "python",
   "pygments_lexer": "ipython3",
   "version": "3.9.7"
  }
 },
 "nbformat": 4,
 "nbformat_minor": 5
}
